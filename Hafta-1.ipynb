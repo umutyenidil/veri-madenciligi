{
 "cells": [
  {
   "cell_type": "code",
   "execution_count": 18,
   "id": "de57c463",
   "metadata": {},
   "outputs": [
    {
     "name": "stdout",
     "output_type": "stream",
     "text": [
      "Choose a city to get its temprature: Aydin\n",
      "30.0°C\n"
     ]
    }
   ],
   "source": [
    "import requests; print(requests.get('https://api.weatherapi.com/v1/current.json', params={'key': '5bc1bafb983c461faea120231230910', 'q': input('Choose a city to get its temprature: '), 'aqi': 'no'}).json()['current']['temp_c'], '°C', sep='')"
   ]
  },
  {
   "cell_type": "code",
   "execution_count": 27,
   "id": "c9bf6aee",
   "metadata": {},
   "outputs": [
    {
     "name": "stdout",
     "output_type": "stream",
     "text": [
      "{1: 2, 3: 3, 4: 2, 10: 1, 18: 1, 2: 2, 16: 1}\n"
     ]
    }
   ],
   "source": [
    "eleman = [1, 3, 4, 1, 10, 18, 3, 2, 3, 4, 2, 16]\n",
    "sozluk = {}\n",
    "for index in range(len(eleman)):\n",
    "    if eleman[index] not in sozluk.keys():\n",
    "        sozluk[eleman[index]] = 1\n",
    "    else:\n",
    "        sozluk[eleman[index]] += 1\n",
    "print(sozluk)"
   ]
  },
  {
   "cell_type": "code",
   "execution_count": null,
   "id": "335f38f8",
   "metadata": {},
   "outputs": [],
   "source": []
  }
 ],
 "metadata": {
  "kernelspec": {
   "display_name": "Python 3 (ipykernel)",
   "language": "python",
   "name": "python3"
  },
  "language_info": {
   "codemirror_mode": {
    "name": "ipython",
    "version": 3
   },
   "file_extension": ".py",
   "mimetype": "text/x-python",
   "name": "python",
   "nbconvert_exporter": "python",
   "pygments_lexer": "ipython3",
   "version": "3.9.12"
  }
 },
 "nbformat": 4,
 "nbformat_minor": 5
}
